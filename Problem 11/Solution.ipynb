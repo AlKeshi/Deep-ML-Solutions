{
 "cells": [
  {
   "cell_type": "code",
   "execution_count": null,
   "metadata": {},
   "outputs": [],
   "source": [
    "import numpy as np\n",
    "def solve_jacobi(A: np.ndarray, b: np.ndarray, n: int) -> np.ndarray:\n",
    "    x = np.zeros_like(b, dtype=float)\n",
    "    for _ in range(n):\n",
    "        x_new = np.copy(x)\n",
    "        for i in range(x.shape[0]):\n",
    "            s = 0\n",
    "            for j in range(A.shape[1]):\n",
    "                if i != j:\n",
    "                    s += A[i][j] * x[j]\n",
    "            x_new[i] = (b[i] - s) / A[i][i]\n",
    "        x = x_new \n",
    "    return np.round(x, 4)\n"
   ]
  }
 ],
 "metadata": {
  "kernelspec": {
   "display_name": "Python 3",
   "language": "python",
   "name": "python3"
  },
  "language_info": {
   "name": "python",
   "version": "3.12.5"
  }
 },
 "nbformat": 4,
 "nbformat_minor": 2
}
