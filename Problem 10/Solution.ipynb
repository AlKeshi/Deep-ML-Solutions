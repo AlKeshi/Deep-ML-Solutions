{
 "cells": [
  {
   "cell_type": "code",
   "execution_count": null,
   "metadata": {
    "vscode": {
     "languageId": "plaintext"
    }
   },
   "outputs": [],
   "source": [
    "import numpy as np\n",
    "def calculate_covariance_matrix(vectors: list[list[float]]) -> list[list[float]]:\n",
    "\tA = np.array(vectors)\n",
    "\treturn np.cov(A).tolist()"
   ]
  }
 ],
 "metadata": {
  "language_info": {
   "name": "python"
  }
 },
 "nbformat": 4,
 "nbformat_minor": 2
}
