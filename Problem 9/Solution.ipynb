{
 "cells": [
  {
   "cell_type": "code",
   "execution_count": null,
   "metadata": {},
   "outputs": [],
   "source": [
    "import numpy as np\n",
    "def matrixmul(a:list[list[int|float]],\n",
    "              b:list[list[int|float]])-> list[list[int|float]]:\n",
    "\treturn -1 if (np.array(a).shape[1] != np.array(b).shape[0]) else np.array(a).dot(np.array(b)).tolist()"
   ]
  }
 ],
 "metadata": {
  "kernelspec": {
   "display_name": "Python 3",
   "language": "python",
   "name": "python3"
  },
  "language_info": {
   "name": "python",
   "version": "3.12.5"
  }
 },
 "nbformat": 4,
 "nbformat_minor": 2
}
